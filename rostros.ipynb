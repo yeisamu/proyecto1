{
 "cells": [
  {
   "cell_type": "code",
   "execution_count": 4,
   "metadata": {
    "collapsed": false
   },
   "outputs": [
    {
     "data": {
      "text/plain": [
       "-1"
      ]
     },
     "execution_count": 4,
     "metadata": {},
     "output_type": "execute_result"
    }
   ],
   "source": [
    "import numpy as np\n",
    "import cv2\n",
    "#img = cv2.imread('watch.jpg',cv2.IMREAD_COLOR)\n",
    "\n",
    "rostroCascade = cv2.CascadeClassifier('haarcascade_frontalface_default.xml')\n",
    "eye_cascade = cv2.CascadeClassifier('haarcascade_eye.xml')\n",
    "imagen = cv2.imread('funcionarios.png') \n",
    "filtro = cv2.cvtColor(imagen, cv2.COLOR_BGR2GRAY) \n",
    "\n",
    "rostros = rostroCascade.detectMultiScale(filtro,scaleFactor = 1.2,minNeighbors = 5,minSize= (30,30),flags = cv2.CASCADE_SCALE_IMAGE)\n",
    "\n",
    "\n",
    "for (x, y, w, h) in rostros:\n",
    "    cv2.rectangle(imagen, (x, y), (x+w, y+h), (255, 0, 0), 2)\n",
    "    roi_gray = filtro[y:y+h, x:x+w]\n",
    "    roi_color = imagen[y:y+h, x:x+w]\n",
    "    eyes = eye_cascade.detectMultiScale(roi_gray)\n",
    "    for (ex,ey,ew,eh) in eyes:\n",
    "        cv2.rectangle(roi_color,(ex,ey),(ex+ew,ey+eh),(0,255,0),2)\n",
    "\n",
    "cv2.imshow(\"Rostros encontrados\", imagen) \n",
    "cv2.waitKey(0)"
   ]
  },
  {
   "cell_type": "code",
   "execution_count": null,
   "metadata": {
    "collapsed": true
   },
   "outputs": [],
   "source": []
  }
 ],
 "metadata": {
  "anaconda-cloud": {},
  "kernelspec": {
   "display_name": "Python [Root]",
   "language": "python",
   "name": "Python [Root]"
  },
  "language_info": {
   "codemirror_mode": {
    "name": "ipython",
    "version": 2
   },
   "file_extension": ".py",
   "mimetype": "text/x-python",
   "name": "python",
   "nbconvert_exporter": "python",
   "pygments_lexer": "ipython2",
   "version": "2.7.12"
  }
 },
 "nbformat": 4,
 "nbformat_minor": 0
}
